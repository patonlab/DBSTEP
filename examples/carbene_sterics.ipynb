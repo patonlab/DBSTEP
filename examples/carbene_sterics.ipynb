{
 "cells": [
  {
   "cell_type": "markdown",
   "id": "533399e4",
   "metadata": {},
   "source": [
    "## Introduction to Generating Steric Parameters with DBSTEP\n",
    "In this Notebook we are going to load a dataset of molecules, complexes of Ni(CO)3 with different N-heterocyclic carbene ligands. We have a pre-computed property, which is the dissociation energy required to remove a molecule of CO.\n",
    "\n",
    "The steric demand of the ligand is thought to play an important role. We therefore set out to obtain parameters that describe these differential steric effects using DBSTEP (https://github.com/patonlab/DBSTEP)"
   ]
  },
  {
   "cell_type": "code",
   "execution_count": 1,
   "id": "8882d8d8",
   "metadata": {},
   "outputs": [
    {
     "name": "stdout",
     "output_type": "stream",
     "text": [
      "Requirement already satisfied: cclib in /opt/anaconda3/lib/python3.12/site-packages (1.8.1)\n",
      "Requirement already satisfied: numpy in /opt/anaconda3/lib/python3.12/site-packages (from cclib) (1.26.4)\n",
      "Requirement already satisfied: packaging>=19.0 in /opt/anaconda3/lib/python3.12/site-packages (from cclib) (23.2)\n",
      "Requirement already satisfied: periodictable in /opt/anaconda3/lib/python3.12/site-packages (from cclib) (1.7.1)\n",
      "Requirement already satisfied: scipy>=1.2.0 in /opt/anaconda3/lib/python3.12/site-packages (from cclib) (1.13.1)\n",
      "Requirement already satisfied: pyparsing in /opt/anaconda3/lib/python3.12/site-packages (from periodictable->cclib) (3.0.9)\n",
      "Note: you may need to restart the kernel to use updated packages.\n",
      "Requirement already satisfied: xyz-py in /opt/anaconda3/lib/python3.12/site-packages (5.13.0)\n",
      "Requirement already satisfied: numpy in /opt/anaconda3/lib/python3.12/site-packages (from xyz-py) (1.26.4)\n",
      "Requirement already satisfied: scipy in /opt/anaconda3/lib/python3.12/site-packages (from xyz-py) (1.13.1)\n",
      "Requirement already satisfied: ase in /opt/anaconda3/lib/python3.12/site-packages (from xyz-py) (3.23.0)\n",
      "Requirement already satisfied: deprecation in /opt/anaconda3/lib/python3.12/site-packages (from xyz-py) (2.1.0)\n",
      "Requirement already satisfied: matplotlib>=3.3.4 in /opt/anaconda3/lib/python3.12/site-packages (from ase->xyz-py) (3.8.4)\n",
      "Requirement already satisfied: packaging in /opt/anaconda3/lib/python3.12/site-packages (from deprecation->xyz-py) (23.2)\n",
      "Requirement already satisfied: contourpy>=1.0.1 in /opt/anaconda3/lib/python3.12/site-packages (from matplotlib>=3.3.4->ase->xyz-py) (1.2.0)\n",
      "Requirement already satisfied: cycler>=0.10 in /opt/anaconda3/lib/python3.12/site-packages (from matplotlib>=3.3.4->ase->xyz-py) (0.11.0)\n",
      "Requirement already satisfied: fonttools>=4.22.0 in /opt/anaconda3/lib/python3.12/site-packages (from matplotlib>=3.3.4->ase->xyz-py) (4.51.0)\n",
      "Requirement already satisfied: kiwisolver>=1.3.1 in /opt/anaconda3/lib/python3.12/site-packages (from matplotlib>=3.3.4->ase->xyz-py) (1.4.4)\n",
      "Requirement already satisfied: pillow>=8 in /opt/anaconda3/lib/python3.12/site-packages (from matplotlib>=3.3.4->ase->xyz-py) (10.3.0)\n",
      "Requirement already satisfied: pyparsing>=2.3.1 in /opt/anaconda3/lib/python3.12/site-packages (from matplotlib>=3.3.4->ase->xyz-py) (3.0.9)\n",
      "Requirement already satisfied: python-dateutil>=2.7 in /opt/anaconda3/lib/python3.12/site-packages (from matplotlib>=3.3.4->ase->xyz-py) (2.9.0.post0)\n",
      "Requirement already satisfied: six>=1.5 in /opt/anaconda3/lib/python3.12/site-packages (from python-dateutil>=2.7->matplotlib>=3.3.4->ase->xyz-py) (1.16.0)\n",
      "Note: you may need to restart the kernel to use updated packages.\n",
      "Requirement already satisfied: tqdm in /opt/anaconda3/lib/python3.12/site-packages (4.66.4)\n",
      "Note: you may need to restart the kernel to use updated packages.\n",
      "Requirement already satisfied: scikit-learn in /opt/anaconda3/lib/python3.12/site-packages (1.4.2)\n",
      "Requirement already satisfied: numpy>=1.19.5 in /opt/anaconda3/lib/python3.12/site-packages (from scikit-learn) (1.26.4)\n",
      "Requirement already satisfied: scipy>=1.6.0 in /opt/anaconda3/lib/python3.12/site-packages (from scikit-learn) (1.13.1)\n",
      "Requirement already satisfied: joblib>=1.2.0 in /opt/anaconda3/lib/python3.12/site-packages (from scikit-learn) (1.4.2)\n",
      "Requirement already satisfied: threadpoolctl>=2.0.0 in /opt/anaconda3/lib/python3.12/site-packages (from scikit-learn) (2.2.0)\n",
      "Note: you may need to restart the kernel to use updated packages.\n",
      "Requirement already satisfied: numpy in /opt/anaconda3/lib/python3.12/site-packages (1.26.4)\n",
      "Note: you may need to restart the kernel to use updated packages.\n"
     ]
    }
   ],
   "source": [
    "# if not already installed in your environment\n",
    "%pip install cclib\n",
    "#%pip install dbstep\n",
    "%pip install xyz-py\n",
    "%pip install tqdm\n",
    "%pip install scikit-learn\n",
    "%pip install numpy"
   ]
  },
  {
   "cell_type": "code",
   "execution_count": 2,
   "id": "03a8d21a",
   "metadata": {},
   "outputs": [],
   "source": [
    "from xyz_py import load_xyz \n",
    "import pandas as pd\n",
    "import matplotlib.pyplot as plt\n",
    "from tqdm import tqdm\n",
    "from sklearn.metrics import r2_score\n",
    "import numpy as np\n",
    "\n",
    "# import DBSTEP for steric parameters\n",
    "import dbstep.Dbstep as db  "
   ]
  },
  {
   "cell_type": "code",
   "execution_count": 3,
   "id": "85307945",
   "metadata": {},
   "outputs": [
    {
     "data": {
      "text/html": [
       "<div>\n",
       "<style scoped>\n",
       "    .dataframe tbody tr th:only-of-type {\n",
       "        vertical-align: middle;\n",
       "    }\n",
       "\n",
       "    .dataframe tbody tr th {\n",
       "        vertical-align: top;\n",
       "    }\n",
       "\n",
       "    .dataframe thead th {\n",
       "        text-align: right;\n",
       "    }\n",
       "</style>\n",
       "<table border=\"1\" class=\"dataframe\">\n",
       "  <thead>\n",
       "    <tr style=\"text-align: right;\">\n",
       "      <th></th>\n",
       "      <th>ligand</th>\n",
       "      <th>enthalpy</th>\n",
       "      <th>TEP</th>\n",
       "    </tr>\n",
       "  </thead>\n",
       "  <tbody>\n",
       "    <tr>\n",
       "      <th>0</th>\n",
       "      <td>L1</td>\n",
       "      <td>21.70</td>\n",
       "      <td>2059.99</td>\n",
       "    </tr>\n",
       "    <tr>\n",
       "      <th>1</th>\n",
       "      <td>L2</td>\n",
       "      <td>19.12</td>\n",
       "      <td>2063.87</td>\n",
       "    </tr>\n",
       "    <tr>\n",
       "      <th>2</th>\n",
       "      <td>L3</td>\n",
       "      <td>20.23</td>\n",
       "      <td>2066.15</td>\n",
       "    </tr>\n",
       "    <tr>\n",
       "      <th>3</th>\n",
       "      <td>L4</td>\n",
       "      <td>19.78</td>\n",
       "      <td>2058.72</td>\n",
       "    </tr>\n",
       "    <tr>\n",
       "      <th>4</th>\n",
       "      <td>L5</td>\n",
       "      <td>13.90</td>\n",
       "      <td>2082.59</td>\n",
       "    </tr>\n",
       "  </tbody>\n",
       "</table>\n",
       "</div>"
      ],
      "text/plain": [
       "  ligand  enthalpy      TEP\n",
       "0     L1     21.70  2059.99\n",
       "1     L2     19.12  2063.87\n",
       "2     L3     20.23  2066.15\n",
       "3     L4     19.78  2058.72\n",
       "4     L5     13.90  2082.59"
      ]
     },
     "execution_count": 3,
     "metadata": {},
     "output_type": "execute_result"
    }
   ],
   "source": [
    "# read in a CSV - in this case there are three columns\n",
    "data = pd.read_csv('carbene_data.csv')\n",
    "data.head() # shows first 5 lines"
   ]
  },
  {
   "cell_type": "code",
   "execution_count": 4,
   "id": "8789045d",
   "metadata": {},
   "outputs": [],
   "source": [
    "# the structures come from Organometallics 2009, 28, 6458–6461 DOI: 10.1021/om900654g\n",
    "ligands = data.ligand\n",
    "xyz_files = ['carbenes/'+ligand+'.xyz' for ligand in ligands]"
   ]
  },
  {
   "cell_type": "code",
   "execution_count": 35,
   "id": "1393c9bb",
   "metadata": {},
   "outputs": [],
   "source": [
    "# by default, buried volumes use a sphere of radius 3.5 Angstrom. How about we try several values?\n",
    "# lets turn this into a function\n",
    "def get_buried_volumes(xyz_files, radius=3.5):\n",
    "    v_bur = [] \n",
    "    shell_bur = []\n",
    "    \n",
    "    print('o  Vbur for radius {:5.2f} ...'.format(radius))\n",
    "    \n",
    "    for file in tqdm(xyz_files):\n",
    "        # the center of the sphere will be defined at Nickel    \n",
    "        atoms, coords = load_xyz(file)\n",
    "        center = atoms.index('Ni') + 1\n",
    "        \n",
    "        # by convention we don't include the Ni(CO)3 atoms\n",
    "        non_nhc_atoms = '1,2,3,4,5,6,7'\n",
    "    \n",
    "        #Create DBSTEP object\n",
    "        mol = db.dbstep(file, atom1=center, exclude=non_nhc_atoms, commandline=True, verbose=False, volume=True, quiet=True, r=radius, vshell=0.5)  \n",
    "        \n",
    "        # append the object property \"bur_vol\" to the list v_bur\n",
    "        v_bur.append(mol.bur_vol)\n",
    "        shell_bur.append(mol.bur_shell)\n",
    "        \n",
    "    return v_bur, shell_bur"
   ]
  },
  {
   "cell_type": "code",
   "execution_count": 36,
   "id": "ba9333a2-d2b7-4f98-a735-ddd1ea77b58e",
   "metadata": {},
   "outputs": [
    {
     "name": "stdout",
     "output_type": "stream",
     "text": [
      "o  Vbur for radius  1.50 ...\n"
     ]
    },
    {
     "name": "stderr",
     "output_type": "stream",
     "text": [
      "100%|██████████████████████████████████████████████████████████████████████████████████████████████████████████████████████████████████████████████████████████████████████| 22/22 [00:01<00:00, 13.48it/s]\n"
     ]
    },
    {
     "name": "stdout",
     "output_type": "stream",
     "text": [
      "o  Vbur for radius  2.00 ...\n"
     ]
    },
    {
     "name": "stderr",
     "output_type": "stream",
     "text": [
      "100%|██████████████████████████████████████████████████████████████████████████████████████████████████████████████████████████████████████████████████████████████████████| 22/22 [00:01<00:00, 12.86it/s]\n"
     ]
    },
    {
     "name": "stdout",
     "output_type": "stream",
     "text": [
      "o  Vbur for radius  2.50 ...\n"
     ]
    },
    {
     "name": "stderr",
     "output_type": "stream",
     "text": [
      "100%|██████████████████████████████████████████████████████████████████████████████████████████████████████████████████████████████████████████████████████████████████████| 22/22 [00:01<00:00, 11.83it/s]\n"
     ]
    },
    {
     "name": "stdout",
     "output_type": "stream",
     "text": [
      "o  Vbur for radius  3.00 ...\n"
     ]
    },
    {
     "name": "stderr",
     "output_type": "stream",
     "text": [
      "100%|██████████████████████████████████████████████████████████████████████████████████████████████████████████████████████████████████████████████████████████████████████| 22/22 [00:02<00:00, 10.64it/s]\n"
     ]
    },
    {
     "name": "stdout",
     "output_type": "stream",
     "text": [
      "o  Vbur for radius  3.50 ...\n"
     ]
    },
    {
     "name": "stderr",
     "output_type": "stream",
     "text": [
      "100%|██████████████████████████████████████████████████████████████████████████████████████████████████████████████████████████████████████████████████████████████████████| 22/22 [00:02<00:00,  9.23it/s]\n"
     ]
    },
    {
     "name": "stdout",
     "output_type": "stream",
     "text": [
      "o  Vbur for radius  4.00 ...\n"
     ]
    },
    {
     "name": "stderr",
     "output_type": "stream",
     "text": [
      "100%|██████████████████████████████████████████████████████████████████████████████████████████████████████████████████████████████████████████████████████████████████████| 22/22 [00:02<00:00,  7.71it/s]\n"
     ]
    }
   ],
   "source": [
    "# Add to the dataframe as new columns\n",
    "data['v_bur_1.5'], data['s_bur_1.5'] = get_buried_volumes(xyz_files, 1.5)\n",
    "data['v_bur_2.0'], data['s_bur_2.0'] = get_buried_volumes(xyz_files, 2.0)\n",
    "data['v_bur_2.5'], data['s_bur_2.5'] = get_buried_volumes(xyz_files, 2.5)\n",
    "data['v_bur_3.0'], data['s_bur_3.0'] = get_buried_volumes(xyz_files, 3.0)\n",
    "data['v_bur_3.5'], data['s_bur_3.5'] = get_buried_volumes(xyz_files, 3.5)\n",
    "data['v_bur_4.0'], data['s_bur_4.0'] = get_buried_volumes(xyz_files, 4.0)"
   ]
  },
  {
   "cell_type": "code",
   "execution_count": 37,
   "id": "2c00a817",
   "metadata": {},
   "outputs": [],
   "source": [
    "data.head() # we have added several new columns - V_bur and S_bur evaluated with different radii!\n",
    "data.to_csv('out2.csv')"
   ]
  },
  {
   "cell_type": "code",
   "execution_count": 31,
   "id": "795af82f-e3d5-4306-9a81-338f57c3c7ed",
   "metadata": {},
   "outputs": [
    {
     "name": "stdout",
     "output_type": "stream",
     "text": [
      "0.433, 0.676, 0.878, 0.823, 0.768, 0.739\n"
     ]
    }
   ],
   "source": [
    "r2_values = [np.corrcoef(data['enthalpy'], v_burs)[0,1] ** 2 for v_burs in [data['v_bur_1.5'], data['v_bur_2.0'], data['v_bur_2.5'], data['v_bur_3.0'], data['v_bur_3.5'], data['v_bur_4.0']]]\n",
    "print(', '.join(f'{q:.3f}' for q in r2_values))"
   ]
  },
  {
   "cell_type": "code",
   "execution_count": 32,
   "id": "da55d274-19bd-428b-97f0-a1483e8a71e0",
   "metadata": {},
   "outputs": [
    {
     "name": "stdout",
     "output_type": "stream",
     "text": [
      "0.367, 0.881, 0.790, 0.703, 0.666, 0.698\n"
     ]
    }
   ],
   "source": [
    "r2_values = [np.corrcoef(data['enthalpy'], s_burs)[0,1] ** 2 for s_burs in [data['s_bur_1.5'], data['s_bur_2.0'], data['s_bur_2.5'], data['s_bur_3.0'], data['s_bur_3.5'], data['s_bur_4.0']]]\n",
    "print(', '.join(f'{q:.3f}' for q in r2_values))"
   ]
  },
  {
   "cell_type": "code",
   "execution_count": 33,
   "id": "b8e95d3e-d975-40aa-8832-1ae8b10aa817",
   "metadata": {},
   "outputs": [
    {
     "data": {
      "image/png": "[encoded data removed]",
      "text/plain": [
       "<Figure size 1000x400 with 6 Axes>"
      ]
     },
     "metadata": {},
     "output_type": "display_data"
    }
   ],
   "source": [
    "# Multiple plots\n",
    "\n",
    "fig=plt.figure(figsize=(10, 4))\n",
    "\n",
    "ax = plt.subplot(1,6,1)\n",
    "plt.scatter(data['v_bur_1.5'], data['enthalpy'], color='m')\n",
    "\n",
    "ax = plt.subplot(1,6,2)\n",
    "plt.scatter(data['v_bur_2.0'], data['enthalpy'], color='g')\n",
    "\n",
    "ax = plt.subplot(1,6,3)\n",
    "plt.scatter(data['v_bur_2.5'], data['enthalpy'], color='r')\n",
    "\n",
    "ax = plt.subplot(1,6,4)\n",
    "plt.scatter(data['v_bur_3.0'], data['enthalpy'], color='b')\n",
    "\n",
    "ax = plt.subplot(1,6,5)\n",
    "plt.scatter(data['v_bur_3.5'], data['enthalpy'], color='y')\n",
    "\n",
    "ax = plt.subplot(1,6,6)\n",
    "plt.scatter(data['v_bur_4.0'], data['enthalpy'], color='c')\n",
    "\n",
    "plt.tight_layout()\n",
    "plt.show()"
   ]
  },
  {
   "cell_type": "code",
   "execution_count": null,
   "id": "6e6ba7ce-4873-4245-a8b8-3fba092a667e",
   "metadata": {},
   "outputs": [],
   "source": []
  }
 ],
 "metadata": {
  "kernelspec": {
   "display_name": "Python 3 (ipykernel)",
   "language": "python",
   "name": "python3"
  },
  "language_info": {
   "codemirror_mode": {
    "name": "ipython",
    "version": 3
   },
   "file_extension": ".py",
   "mimetype": "text/x-python",
   "name": "python",
   "nbconvert_exporter": "python",
   "pygments_lexer": "ipython3",
   "version": "3.12.2"
  }
 },
 "nbformat": 4,
 "nbformat_minor": 5
}
